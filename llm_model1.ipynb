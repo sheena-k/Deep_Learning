{
 "cells": [
  {
   "cell_type": "markdown",
   "id": "aaa0fb06",
   "metadata": {},
   "source": [
    "This model aims to generate resturant name and menu items using a simple LLM model"
   ]
  },
  {
   "cell_type": "code",
   "execution_count": 1,
   "id": "1551d4c9",
   "metadata": {},
   "outputs": [],
   "source": [
    "from secret_key import openapi_key\n",
    "import os\n",
    "os.environ[\"OPENAPI_KEY\"] =openapi_key"
   ]
  },
  {
   "cell_type": "code",
   "execution_count": 2,
   "id": "216cfd77-d9ff-4909-bed9-eb99379cf9a8",
   "metadata": {},
   "outputs": [],
   "source": [
    "from langchain_openai import OpenAI"
   ]
  },
  {
   "cell_type": "code",
   "execution_count": 3,
   "id": "b87308c3",
   "metadata": {},
   "outputs": [],
   "source": [
    "#def some_function(openai_api_key):\n",
    "    # Your function code here\n",
    "    #pass\n",
    "\n",
    "# Call the function with the parameter\n",
    "#some_function(openai_api_key=\"OPENAPI_KEY\")"
   ]
  },
  {
   "cell_type": "code",
   "execution_count": 4,
   "id": "e2e170d2-63ad-4895-a19c-63b064d6b9db",
   "metadata": {},
   "outputs": [
    {
     "name": "stdout",
     "output_type": "stream",
     "text": [
      "\n",
      "\n",
      "\"El Sabroso Cocina Mexicana\"\n"
     ]
    }
   ],
   "source": [
    "llm = OpenAI(openai_api_key=openapi_key, temperature=0.6)\n",
    "name = llm.invoke(\" I want to open a resturant for Mexican food. Suggest a fancy name based on cuisine\")\n",
    "print(name)"
   ]
  },
  {
   "cell_type": "code",
   "execution_count": 5,
   "id": "fbf884e9",
   "metadata": {},
   "outputs": [
    {
     "data": {
      "text/plain": [
       "'I want to open a resturant for Mexican food. Suggest a fancy name based on cuisine'"
      ]
     },
     "execution_count": 5,
     "metadata": {},
     "output_type": "execute_result"
    }
   ],
   "source": [
    "from langchain.prompts import PromptTemplate\n",
    "prompt_template_name = PromptTemplate(\n",
    "    input_variables=[\"cuisine\"],\n",
    "    template=\"I want to open a resturant for {cuisine} food. Suggest a fancy name based on cuisine\"\n",
    ")\n",
    "prompt_template_name.format(cuisine =\"Mexican\")"
   ]
  },
  {
   "cell_type": "code",
   "execution_count": 11,
   "id": "dc046184",
   "metadata": {},
   "outputs": [
    {
     "data": {
      "text/plain": [
       "{'resturant_name': 'Mexican',\n",
       " 'text': '\\n\\n1. Tacos (beef, chicken, fish, or vegetarian options)\\n2. Burritos (with choice of filling)\\n3. Enchiladas (chicken, beef, or cheese)\\n4. Quesadillas (cheese, chicken, or veggie)\\n5. Fajitas (beef, chicken, or vegetable)\\n6. Nachos (with choice of meat or vegetarian toppings)\\n7. Tamales (pork, chicken, or vegetarian)\\n8. Chimichangas (shredded beef or chicken)\\n9. Chiles Rellenos (stuffed peppers)\\n10. Carne Asada (grilled steak)\\n11. Carnitas (slow-cooked pork)\\n12. Pozole (traditional Mexican soup with hominy and meat)\\n13. Sopes (thick tortillas topped with beans, meat, and salsa)\\n14. Flautas (crispy rolled tacos with choice of filling)\\n15. Mexican Rice and Beans (classic side dishes)\\n16. Guacamole and Chips (authentic appetizer)\\n17. Tostadas (crispy flat tortillas with toppings)\\n18. Churros (fried dough pastry rolled in cinnamon sugar)\\n19. Horchata (traditional Mexican rice'}"
      ]
     },
     "execution_count": 11,
     "metadata": {},
     "output_type": "execute_result"
    }
   ],
   "source": [
    "from langchain.chains import LLMChain\n",
    "chain = LLMChain(llm=llm, prompt=prompt_template_name)\n",
    "chain.invoke(\"Mexican\")"
   ]
  },
  {
   "cell_type": "code",
   "execution_count": 7,
   "id": "36fd00d0",
   "metadata": {},
   "outputs": [],
   "source": [
    "llm = OpenAI(openai_api_key=openapi_key, temperature=0.6)\n",
    "prompt_template_name = PromptTemplate(\n",
    "    input_variables=[\"cuisine\"],\n",
    "    template=\"I want to open a resturant for {cuisine} food. Suggest a fancy name based on cuisine\"\n",
    ")\n",
    "name_chain =LLMChain(llm=llm, prompt=prompt_template_name)\n",
    "prompt_template_name = PromptTemplate(\n",
    "    input_variables=[\"resturant_name\"],\n",
    "    template=\"Suggest some menu items for {resturant_name} food. Return it as a list\"\n",
    ")\n",
    "food_items_chain = LLMChain(llm=llm, prompt=prompt_template_name)\n"
   ]
  },
  {
   "cell_type": "code",
   "execution_count": 8,
   "id": "62ef3993",
   "metadata": {},
   "outputs": [
    {
     "name": "stdout",
     "output_type": "stream",
     "text": [
      "{'input': 'Indian', 'output': '\\n\\n1. Tandoori Chicken Tikka\\n2. Lamb Vindaloo\\n3. Butter Chicken\\n4. Vegetable Samosas\\n5. Garlic Naan\\n6. Saag Paneer\\n7. Chana Masala\\n8. Chicken Biryani\\n9. Dal Makhani\\n10. Mango Lassi\\n11. Aloo Gobi\\n12. Papdi Chaat\\n13. Malai Kofta\\n14. Rogan Josh\\n15. Palak Paneer\\n16. Gulab Jamun\\n17. Chicken Tikka Masala\\n18. Vegetable Biryani\\n19. Bhindi Masala\\n20. Kheer (Indian rice pudding)'}\n"
     ]
    }
   ],
   "source": [
    "from langchain.chains import SimpleSequentialChain\n",
    "chain = SimpleSequentialChain(chains =[name_chain,food_items_chain])\n",
    "response = chain.invoke(\"Indian\")\n",
    "print (response)"
   ]
  },
  {
   "cell_type": "code",
   "execution_count": 9,
   "id": "9e666b05",
   "metadata": {},
   "outputs": [],
   "source": [
    "llm = OpenAI(openai_api_key=openapi_key, temperature=0.7)\n",
    "prompt_template_name = PromptTemplate(\n",
    "    input_variables=[\"cuisine\"],\n",
    "    template=\"I want to open a resturant for {cuisine} food. Suggest a fancy name based on cuisine\"\n",
    ")\n",
    "name_chain =LLMChain(llm=llm, prompt=prompt_template_name, output_key=\"resturant_name\")\n",
    "prompt_template_name = PromptTemplate(\n",
    "    input_variables=[\"resturant_name\"],\n",
    "    template=\"Suggest some menu items for {resturant_name} food. Return it as a list\"\n",
    ")\n",
    "food_items_chain = LLMChain(llm=llm, prompt=prompt_template_name,output_key=\"menu_items\")"
   ]
  },
  {
   "cell_type": "code",
   "execution_count": 10,
   "id": "57706d84",
   "metadata": {},
   "outputs": [
    {
     "data": {
      "text/plain": [
       "{'cuisine': {'cuisine : chinese'},\n",
       " 'resturant_name': '\\n\\n\"Dragon\\'s Delight\"',\n",
       " 'menu_items': \"\\n\\n1. Fire-breathing Dragon Burger\\n2. Dragon Wing Platter\\n3. Dragon's Breath Chili\\n4. Charred Dragon Steak\\n5. Dragon Egg Salad\\n6. Dragon Scale Nachos\\n7. Roasted Dragon Tail Sandwich\\n8. Dragonfire Pasta\\n9. Fiery Dragon Curry\\n10. Dragon Claw Tacos\\n11. Grilled Dragonfruit Salad\\n12. Spicy Dragon Ramen\\n13. Dragon's Nest Omelette\\n14. Flame-grilled Dragon Shrimp\\n15. Dragon's Hoard Fries (topped with cheese, bacon, and jalapenos)\\n16. Dragon's Blood BBQ Ribs\\n17. Dragonfire Pizza\\n18. Dragon's Lair Stir-Fry\\n19. Sizzling Dragon Skewers\\n20. Dragon's Breath Cocktail (made with spicy tequila and dragonfruit juice).\"}"
      ]
     },
     "execution_count": 10,
     "metadata": {},
     "output_type": "execute_result"
    }
   ],
   "source": [
    "from langchain.chains import SequentialChain\n",
    "chain = SequentialChain(\n",
    "    chains = [name_chain,food_items_chain],\n",
    "    input_variables = [\"cuisine\"],\n",
    "    output_variables = [\"resturant_name\",\"menu_items\"]\n",
    ")\n",
    "chain.invoke({\"cuisine : chinese\"})"
   ]
  },
  {
   "cell_type": "code",
   "execution_count": null,
   "id": "0a209851",
   "metadata": {},
   "outputs": [],
   "source": []
  }
 ],
 "metadata": {
  "kernelspec": {
   "display_name": "Python 3",
   "language": "python",
   "name": "python3"
  },
  "language_info": {
   "codemirror_mode": {
    "name": "ipython",
    "version": 3
   },
   "file_extension": ".py",
   "mimetype": "text/x-python",
   "name": "python",
   "nbconvert_exporter": "python",
   "pygments_lexer": "ipython3",
   "version": "3.11.4"
  }
 },
 "nbformat": 4,
 "nbformat_minor": 5
}
