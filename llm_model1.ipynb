{
 "cells": [
  {
   "cell_type": "code",
   "execution_count": 35,
   "id": "c50efe12-9284-444c-b62f-0ff3b3e6d728",
   "metadata": {},
   "outputs": [],
   "source": [
    "from secret_key import openapi_key\n",
    "import os\n",
    "os.environ[\"OPENAPI_KEY\"] =openapi_key"
   ]
  },
  {
   "cell_type": "code",
   "execution_count": 36,
   "id": "216cfd77-d9ff-4909-bed9-eb99379cf9a8",
   "metadata": {},
   "outputs": [],
   "source": [
    "from langchain_openai import OpenAI"
   ]
  },
  {
   "cell_type": "code",
   "execution_count": 45,
   "id": "b87308c3",
   "metadata": {},
   "outputs": [],
   "source": [
    "#def some_function(openai_api_key):\n",
    "    # Your function code here\n",
    "    #pass\n",
    "\n",
    "# Call the function with the parameter\n",
    "#some_function(openai_api_key=\"OPENAPI_KEY\")"
   ]
  },
  {
   "cell_type": "code",
   "execution_count": 38,
   "id": "e2e170d2-63ad-4895-a19c-63b064d6b9db",
   "metadata": {},
   "outputs": [
    {
     "name": "stdout",
     "output_type": "stream",
     "text": [
      "\n",
      "\n",
      "\"La Cantina de Mexico\"\n"
     ]
    }
   ],
   "source": [
    "llm = OpenAI(openai_api_key=openapi_key, temperature=0.6)\n",
    "name = llm(\" I want to open a resturant for Mexican food. Suggest a fancy name based on cuisine\")\n",
    "print(name)"
   ]
  },
  {
   "cell_type": "code",
   "execution_count": 39,
   "id": "fbf884e9",
   "metadata": {},
   "outputs": [
    {
     "data": {
      "text/plain": [
       "'I want to open a resturant for Mexican food. Suggest a fancy name based on country'"
      ]
     },
     "execution_count": 39,
     "metadata": {},
     "output_type": "execute_result"
    }
   ],
   "source": [
    "from langchain.prompts import PromptTemplate\n",
    "prompt_template_name = PromptTemplate(\n",
    "    input_variables=[\"cuisine\"],\n",
    "    template=\"I want to open a resturant for {cuisine} food. Suggest a fancy name based on cuisine\"\n",
    ")\n",
    "prompt_template_name.format(cuisine =\"Mexican\")"
   ]
  },
  {
   "cell_type": "code",
   "execution_count": 47,
   "id": "dc046184",
   "metadata": {},
   "outputs": [
    {
     "data": {
      "text/plain": [
       "'\\n\\n\"Casa de México\" '"
      ]
     },
     "execution_count": 47,
     "metadata": {},
     "output_type": "execute_result"
    }
   ],
   "source": [
    "from langchain.chains import LLMChain\n",
    "chain = LLMChain(llm=llm, prompt=prompt_template_name)\n",
    "chain.run(\"Mexican\")"
   ]
  },
  {
   "cell_type": "code",
   "execution_count": 54,
   "id": "36fd00d0",
   "metadata": {},
   "outputs": [],
   "source": [
    "llm = OpenAI(openai_api_key=openapi_key, temperature=0.6)\n",
    "prompt_template_name = PromptTemplate(\n",
    "    input_variables=[\"cuisine\"],\n",
    "    template=\"I want to open a resturant for {cuisine} food. Suggest a fancy name based on cuisine\"\n",
    ")\n",
    "name_chain =LLMChain(llm=llm, prompt=prompt_template_name)\n",
    "prompt_template_name = PromptTemplate(\n",
    "    input_variables=[\"resturant_name\"],\n",
    "    template=\"Suggest some menu items for {resturant_name} food. Return it as a list\"\n",
    ")\n",
    "food_items_chain = LLMChain(llm=llm, prompt=prompt_template_name)\n"
   ]
  },
  {
   "cell_type": "code",
   "execution_count": 55,
   "id": "62ef3993",
   "metadata": {},
   "outputs": [
    {
     "name": "stdout",
     "output_type": "stream",
     "text": [
      "\n",
      "\n",
      "1. Spicy Chicken Tikka Masala\n",
      "2. Lamb Vindaloo\n",
      "3. Vegetable Biryani\n",
      "4. Tandoori Shrimp\n",
      "5. Aloo Gobi (potato and cauliflower curry)\n",
      "6. Paneer Butter Masala\n",
      "7. Chana Masala (chickpea curry)\n",
      "8. Chicken Korma\n",
      "9. Samosas (deep-fried pastry filled with spiced potatoes and peas)\n",
      "10. Garlic Naan (garlic-flavored flatbread)\n",
      "11. Mango Lassi (yogurt-based drink with mango puree)\n",
      "12. Palak Paneer (spinach and cheese curry)\n",
      "13. Chicken Biryani\n",
      "14. Dal Makhani (creamy lentil curry)\n",
      "15. Papri Chaat (crispy dough wafers topped with chickpeas, potatoes, yogurt, and chutney)\n"
     ]
    }
   ],
   "source": [
    "from langchain.chains import SimpleSequentialChain\n",
    "chain = SimpleSequentialChain(chains =[name_chain,food_items_chain])\n",
    "response = chain.run(\"Indian\")\n",
    "print (response)"
   ]
  },
  {
   "cell_type": "code",
   "execution_count": 56,
   "id": "9e666b05",
   "metadata": {},
   "outputs": [],
   "source": [
    "llm = OpenAI(openai_api_key=openapi_key, temperature=0.7)\n",
    "prompt_template_name = PromptTemplate(\n",
    "    input_variables=[\"cuisine\"],\n",
    "    template=\"I want to open a resturant for {cuisine} food. Suggest a fancy name based on cuisine\"\n",
    ")\n",
    "name_chain =LLMChain(llm=llm, prompt=prompt_template_name, output_key=\"resturant_name\")\n",
    "prompt_template_name = PromptTemplate(\n",
    "    input_variables=[\"resturant_name\"],\n",
    "    template=\"Suggest some menu items for {resturant_name} food. Return it as a list\"\n",
    ")\n",
    "food_items_chain = LLMChain(llm=llm, prompt=prompt_template_name,output_key=\"menu_items\")"
   ]
  },
  {
   "cell_type": "code",
   "execution_count": 61,
   "id": "57706d84",
   "metadata": {},
   "outputs": [
    {
     "name": "stderr",
     "output_type": "stream",
     "text": [
      "c:\\Users\\skshe\\AppData\\Local\\Programs\\Python\\Python311\\Lib\\site-packages\\langchain_core\\_api\\deprecation.py:119: LangChainDeprecationWarning: The method `Chain.__call__` was deprecated in langchain 0.1.0 and will be removed in 0.2.0. Use invoke instead.\n",
      "  warn_deprecated(\n"
     ]
    },
    {
     "data": {
      "text/plain": [
       "{'cuisine': {'cuisine : chinese'},\n",
       " 'resturant_name': '\\n\\n\"Imperial Dragon Dining\"',\n",
       " 'menu_items': \"\\n\\n1. General Tso's Chicken\\n2. Mongolian Beef\\n3. Kung Pao Shrimp\\n4. Vegetable Lo Mein\\n5. Sweet and Sour Pork\\n6. Orange Chicken\\n7. Szechuan Tofu\\n8. Honey Walnut Shrimp\\n9. Fried Rice with Egg and Vegetables\\n10. Hot and Sour Soup\\n11. Egg Rolls\\n12. Sesame Noodles\\n13. Beef and Broccoli\\n14. Chicken Chow Mein\\n15. Peking Duck\\n16. Crab Rangoon\\n17. Ma Po Tofu\\n18. Steamed Dumplings\\n19. Moo Shu Pork\\n20. Shrimp Fried Rice\"}"
      ]
     },
     "execution_count": 61,
     "metadata": {},
     "output_type": "execute_result"
    }
   ],
   "source": [
    "from langchain.chains import SequentialChain\n",
    "chain = SequentialChain(\n",
    "    chains = [name_chain,food_items_chain],\n",
    "    input_variables = [\"cuisine\"],\n",
    "    output_variables = [\"resturant_name\",\"menu_items\"]\n",
    ")\n",
    "chain({\"cuisine : chinese\"})"
   ]
  },
  {
   "cell_type": "code",
   "execution_count": null,
   "id": "0a209851",
   "metadata": {},
   "outputs": [],
   "source": []
  }
 ],
 "metadata": {
  "kernelspec": {
   "display_name": "Python 3",
   "language": "python",
   "name": "python3"
  },
  "language_info": {
   "codemirror_mode": {
    "name": "ipython",
    "version": 3
   },
   "file_extension": ".py",
   "mimetype": "text/x-python",
   "name": "python",
   "nbconvert_exporter": "python",
   "pygments_lexer": "ipython3",
   "version": "3.11.4"
  }
 },
 "nbformat": 4,
 "nbformat_minor": 5
}
