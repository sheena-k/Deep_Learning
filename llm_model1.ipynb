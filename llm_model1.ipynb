{
 "cells": [
  {
   "cell_type": "markdown",
   "id": "aaa0fb06",
   "metadata": {},
   "source": [
    "This model aims to generate restaurant name and menu items using a simple LLM model"
   ]
  },
  {
   "cell_type": "code",
   "execution_count": 1,
   "id": "1551d4c9",
   "metadata": {},
   "outputs": [],
   "source": [
    "from secret_key import openapi_key\n",
    "import os\n",
    "os.environ[\"OPENAPI_KEY\"] =openapi_key"
   ]
  },
  {
   "cell_type": "code",
   "execution_count": 2,
   "id": "216cfd77-d9ff-4909-bed9-eb99379cf9a8",
   "metadata": {},
   "outputs": [],
   "source": [
    "from langchain_openai import OpenAI"
   ]
  },
  {
   "cell_type": "code",
   "execution_count": 3,
   "id": "b87308c3",
   "metadata": {},
   "outputs": [],
   "source": [
    "#def some_function(openai_api_key):\n",
    "    # Your function code here\n",
    "    #pass\n",
    "\n",
    "# Call the function with the parameter\n",
    "#some_function(openai_api_key=\"OPENAPI_KEY\")"
   ]
  },
  {
   "cell_type": "code",
   "execution_count": 4,
   "id": "e2e170d2-63ad-4895-a19c-63b064d6b9db",
   "metadata": {},
   "outputs": [
    {
     "name": "stdout",
     "output_type": "stream",
     "text": [
      "\n",
      "\n",
      "\"El Sabor de México\" (The Flavor of Mexico)\n"
     ]
    }
   ],
   "source": [
    "llm = OpenAI(openai_api_key=openapi_key, temperature=0.6)\n",
    "name = llm.invoke(\" I want to open a restaurant for Mexican food. Suggest a fancy name based on cuisine\")\n",
    "print(name)"
   ]
  },
  {
   "cell_type": "code",
   "execution_count": 5,
   "id": "fbf884e9",
   "metadata": {},
   "outputs": [
    {
     "data": {
      "text/plain": [
       "'I want to open a restaurant for Mexican food. Suggest a fancy name based on cuisine'"
      ]
     },
     "execution_count": 5,
     "metadata": {},
     "output_type": "execute_result"
    }
   ],
   "source": [
    "from langchain.prompts import PromptTemplate\n",
    "prompt_template_name = PromptTemplate(\n",
    "    input_variables=[\"cuisine\"],\n",
    "    template=\"I want to open a restaurant for {cuisine} food. Suggest a fancy name based on cuisine\"\n",
    ")\n",
    "prompt_template_name.format(cuisine =\"Mexican\")"
   ]
  },
  {
   "cell_type": "code",
   "execution_count": 6,
   "id": "dc046184",
   "metadata": {},
   "outputs": [
    {
     "name": "stderr",
     "output_type": "stream",
     "text": [
      "c:\\Users\\skshe\\AppData\\Local\\Programs\\Python\\Python311\\Lib\\site-packages\\langchain_core\\_api\\deprecation.py:119: LangChainDeprecationWarning: The class `LLMChain` was deprecated in LangChain 0.1.17 and will be removed in 0.3.0. Use RunnableSequence, e.g., `prompt | llm` instead.\n",
      "  warn_deprecated(\n"
     ]
    },
    {
     "data": {
      "text/plain": [
       "{'cuisine': 'Mexican',\n",
       " 'text': '\\n\\n\"El Sabroso Cocina Mexicana\" (translates to \"The Delicious Mexican Kitchen\")'}"
      ]
     },
     "execution_count": 6,
     "metadata": {},
     "output_type": "execute_result"
    }
   ],
   "source": [
    "from langchain.chains import LLMChain\n",
    "chain = LLMChain(llm=llm, prompt=prompt_template_name)\n",
    "chain.invoke(\"Mexican\")"
   ]
  },
  {
   "cell_type": "code",
   "execution_count": 7,
   "id": "36fd00d0",
   "metadata": {},
   "outputs": [],
   "source": [
    "llm = OpenAI(openai_api_key=openapi_key, temperature=0.6)\n",
    "prompt_template_name = PromptTemplate(\n",
    "    input_variables=[\"cuisine\"],\n",
    "    template=\"I want to open a restaurant for {cuisine} food. Suggest a fancy name based on cuisine\"\n",
    ")\n",
    "name_chain =LLMChain(llm=llm, prompt=prompt_template_name)\n",
    "prompt_template_name = PromptTemplate(\n",
    "    input_variables=[\"restaurant_name\"],\n",
    "    template=\"Suggest some menu items for {restaurant_name} food. Return it as a list\"\n",
    ")\n",
    "food_items_chain = LLMChain(llm=llm, prompt=prompt_template_name)\n"
   ]
  },
  {
   "cell_type": "code",
   "execution_count": 8,
   "id": "62ef3993",
   "metadata": {},
   "outputs": [
    {
     "name": "stdout",
     "output_type": "stream",
     "text": [
      "{'input': 'Indian', 'output': '\\n\\n1. Spicy Chicken Curry\\n2. Vegetable Biryani\\n3. Lamb Vindaloo\\n4. Tandoori Chicken\\n5. Samosas\\n6. Garlic Naan\\n7. Chana Masala\\n8. Paneer Tikka Masala\\n9. Aloo Gobi\\n10. Mango Lassi\\n11. Chicken Tikka Masala\\n12. Palak Paneer\\n13. Vegetable Korma\\n14. Lamb Rogan Josh\\n15. Chicken Biryani\\n16. Butter Chicken\\n17. Dal Makhani\\n18. Gajar Halwa (carrot dessert)\\n19. Papdi Chaat\\n20. Masala Chai'}\n"
     ]
    }
   ],
   "source": [
    "from langchain.chains import SimpleSequentialChain\n",
    "chain = SimpleSequentialChain(chains =[name_chain,food_items_chain])\n",
    "response = chain.invoke(\"Indian\")\n",
    "print (response)"
   ]
  },
  {
   "cell_type": "code",
   "execution_count": 9,
   "id": "9e666b05",
   "metadata": {},
   "outputs": [],
   "source": [
    "llm = OpenAI(openai_api_key=openapi_key, temperature=0.7)\n",
    "prompt_template_name = PromptTemplate(\n",
    "    input_variables=[\"cuisine\"],\n",
    "    template=\"I want to open a restaurant for {cuisine} food. Suggest a fancy name based on cuisine\"\n",
    ")\n",
    "name_chain =LLMChain(llm=llm, prompt=prompt_template_name, output_key=\"restaurant_name\")\n",
    "prompt_template_name = PromptTemplate(\n",
    "    input_variables=[\"restaurant_name\"],\n",
    "    template=\"Suggest some menu items for {restaurant_name} food. Return it as a list\"\n",
    ")\n",
    "food_items_chain = LLMChain(llm=llm, prompt=prompt_template_name,output_key=\"menu_items\")"
   ]
  },
  {
   "cell_type": "code",
   "execution_count": 10,
   "id": "57706d84",
   "metadata": {},
   "outputs": [
    {
     "data": {
      "text/plain": [
       "{'cuisine': {'cuisine : chinese'},\n",
       " 'restaurant_name': '\\n\\n\"Dragon\\'s Delight\"',\n",
       " 'menu_items': \"\\n\\n1. Fiery Dragon Wings\\n2. Dragon Scale Salad with Grilled Shrimp\\n3. Spicy Dragon Sushi Roll\\n4. Fire-Breathing Dragon Burger\\n5. Dragon Egg Drop Soup\\n6. Dragonfire Chicken Stir-Fry\\n7. Dragon Breath Chili\\n8. Dragon's Tail Pasta with Spicy Arrabbiata Sauce\\n9. Dragon's Hoard Platter (combination of various spicy meats and vegetables)\\n10. Dragon's Blood Cocktail (spicy Bloody Mary with a twist)\\n11. Dragon Claw Tacos\\n12. Dragon's Roar BBQ Ribs\\n13. Dragon's Breath Curry\\n14. Dragon Scale Nachos with Spicy Queso\\n15. Dragon's Fury Pizza (topped with hot peppers, pepperoni, and spicy sausage)\"}"
      ]
     },
     "execution_count": 10,
     "metadata": {},
     "output_type": "execute_result"
    }
   ],
   "source": [
    "from langchain.chains import SequentialChain\n",
    "chain = SequentialChain(\n",
    "    chains = [name_chain,food_items_chain],\n",
    "    input_variables = [\"cuisine\"],\n",
    "    output_variables = [\"restaurant_name\",\"menu_items\"]\n",
    ")\n",
    "chain.invoke({\"cuisine : chinese\"})"
   ]
  },
  {
   "cell_type": "code",
   "execution_count": null,
   "id": "0a209851",
   "metadata": {},
   "outputs": [],
   "source": []
  }
 ],
 "metadata": {
  "kernelspec": {
   "display_name": "Python 3",
   "language": "python",
   "name": "python3"
  },
  "language_info": {
   "codemirror_mode": {
    "name": "ipython",
    "version": 3
   },
   "file_extension": ".py",
   "mimetype": "text/x-python",
   "name": "python",
   "nbconvert_exporter": "python",
   "pygments_lexer": "ipython3",
   "version": "3.11.4"
  }
 },
 "nbformat": 4,
 "nbformat_minor": 5
}
